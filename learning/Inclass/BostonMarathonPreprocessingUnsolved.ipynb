{
 "cells": [
  {
   "cell_type": "code",
   "execution_count": null,
   "metadata": {
    "collapsed": true
   },
   "outputs": [],
   "source": [
    "import pandas as pd\n",
    "from sklearn.preprocessing import MinMaxScaler, LabelEncoder\n",
    "\n",
    "%matplotlib inline"
   ]
  },
  {
   "cell_type": "code",
   "execution_count": null,
   "metadata": {},
   "outputs": [],
   "source": [
    "df = pd.read_csv('../Resources/marathon_results_2019.csv')\n",
    "df.head()"
   ]
  },
  {
   "cell_type": "code",
   "execution_count": null,
   "metadata": {},
   "outputs": [],
   "source": [
    "# Subset the dataframe to only the columns \"Age\", \"M/F\", split times (i.e. \"5K, 10K\", etc.), \"Pace\", and \"Official Time\". \n",
    "df = df[['Age', 'M/F', '5K', '10K', '15K', '20K', 'Half', '25K', '30K', '35K', '40K', 'Pace', 'Official Time']]\n",
    "df.head()"
   ]
  },
  {
   "cell_type": "code",
   "execution_count": null,
   "metadata": {},
   "outputs": [],
   "source": [
    "# Convert the split times, \"Pace\", and \"Official Time\" to timedeltas using apply() and pandas.to_timedelta()\n",
    "time_columns = ['5K', '10K', '15K', '20K', 'Half','25K', '30K', '35K', '40K', 'Pace', 'Official Time']\n",
    "df[time_columns] = df[time_columns].apply(pd.to_timedelta)\n",
    "df.head()"
   ]
  },
  {
   "cell_type": "code",
   "execution_count": null,
   "metadata": {},
   "outputs": [],
   "source": [
    "# Convert timedeltas to seconds by applying the lambda function lambda x: x.dt.total_seconds()\n",
    "df[time_columns] = df[time_columns].apply(lambda x: x.dt.total_seconds())\n",
    "df.head()"
   ]
  },
  {
   "cell_type": "code",
   "execution_count": null,
   "metadata": {},
   "outputs": [],
   "source": [
    "# Subset df to only rows where the split values are non-zero (!=0 means not equal to 0)\n",
    "df = df[\n",
    "    (df['5K'] != 0) & \n",
    "    (df['10K'] != 0) & \n",
    "    (df['15K'] != 0) & \n",
    "    (df['20K'] != 0) & \n",
    "    (df['Half'] != 0) & \n",
    "    (df['25K'] != 0) & \n",
    "    (df['30K'] != 0) & \n",
    "    (df['35K'] != 0) & \n",
    "    (df['40K'] != 0)\n",
    "]\n",
    "\n",
    "# A more concise method\n",
    "#df = df[~(df == 0).any(axis=1)]\n",
    "\n",
    "df.head()"
   ]
  },
  {
   "cell_type": "code",
   "execution_count": null,
   "metadata": {},
   "outputs": [],
   "source": [
    "# Use LabelEncoder to convert 'M/F' into integer  (change M/F to 0/1 is what labelencoder does)\n",
    "df['M/F'] = LabelEncoder().fit_transform(df['M/F'])\n",
    "df.head()"
   ]
  },
  {
   "cell_type": "code",
   "execution_count": null,
   "metadata": {
    "collapsed": true
   },
   "outputs": [],
   "source": [
    "# Convert 'Age' to a numeric value\n",
    "df['Age'] = pd.to_numeric(df['Age'])"
   ]
  },
  {
   "cell_type": "code",
   "execution_count": null,
   "metadata": {},
   "outputs": [],
   "source": [
    "# 'Pace' should be perfectly correlated with 'Official Time', so we'll remove it from our X data (but keep it for analysis)\n",
    "# Plot a scatter plot of 'Pace' against 'Official Time' to make sure\n",
    "df.plot(kind='scatter', x='Pace', y='Official Time')"
   ]
  },
  {
   "cell_type": "code",
   "execution_count": null,
   "metadata": {
    "collapsed": true
   },
   "outputs": [],
   "source": [
    "# Create a training set 'X' with every column except 'Pace'\n",
    "X = df.drop('Pace', axis=1)"
   ]
  },
  {
   "cell_type": "code",
   "execution_count": null,
   "metadata": {},
   "outputs": [],
   "source": [
    "# Scale the dataset using MinMaxScaler()\n",
    "X_scaled = MinMaxScaler().fit_transform(X)\n",
    "X_scaled "
   ]
  },
  {
   "cell_type": "code",
   "execution_count": null,
   "metadata": {
    "collapsed": true
   },
   "outputs": [],
   "source": []
  }
 ],
 "metadata": {
  "kernelspec": {
   "display_name": "Python 3 (ipykernel)",
   "language": "python",
   "name": "python3"
  },
  "language_info": {
   "codemirror_mode": {
    "name": "ipython",
    "version": 3
   },
   "file_extension": ".py",
   "mimetype": "text/x-python",
   "name": "python",
   "nbconvert_exporter": "python",
   "pygments_lexer": "ipython3",
   "version": "3.7.11"
  }
 },
 "nbformat": 4,
 "nbformat_minor": 2
}
